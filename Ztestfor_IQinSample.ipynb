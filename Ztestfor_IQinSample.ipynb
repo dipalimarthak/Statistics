{
 "cells": [
  {
   "cell_type": "markdown",
   "metadata": {},
   "source": [
    "SUPPOSE THE IQ IN A POPULATION IS NORMALLY DISTRIBUTED WITH MEAN 'MEW' = 100 WITH A STANDARD DEVIATION OF 15\n",
    "RESEARCHERS WANT TO TEST A NEW MEDICATION TO SEE IF IT HAS AN EFFECT ON INTELLIGENCE. \n",
    "A SAMPLE POPULATION SIZE OF 20 PEOPLE TOOK THE MEDICATION HAVING IQS OF 140.\n",
    "DOES THE MEDICATION AFFECT THE IQ?\n",
    "if aplha /significance value = 0.05\n"
   ]
  },
  {
   "cell_type": "code",
   "execution_count": 1,
   "metadata": {},
   "outputs": [
    {
     "data": {
      "text/plain": [
       "(1.5976240527147705, 0.11012667014384257)"
      ]
     },
     "execution_count": 1,
     "metadata": {},
     "output_type": "execute_result"
    }
   ],
   "source": [
    "#installed scipy and statsmodels libraries first\n",
    "from scipy import stats\n",
    "from statsmodels.stats.weightstats import ztest as ztest\n",
    "data=[88, 92, 94, 94, 96, 97, 97, 97, 99, 99, 105, 109, 109, 109, 110, 112, 112, 113, 114, 115]\n",
    "ztest(data, value=100)"
   ]
  },
  {
   "cell_type": "markdown",
   "metadata": {},
   "source": [
    "**As you observed that the result has \n",
    "tstat : 1.5976240527147705,\n",
    "pvalue :  0.11012667014384257 which is not less than 0.05 we reject the null hypothesis**\n",
    "\n",
    "if pvalue < significance value 'alpha', we reject the null hypothesis"
   ]
  }
 ],
 "metadata": {
  "kernelspec": {
   "display_name": "Python 3",
   "language": "python",
   "name": "python3"
  },
  "language_info": {
   "codemirror_mode": {
    "name": "ipython",
    "version": 3
   },
   "file_extension": ".py",
   "mimetype": "text/x-python",
   "name": "python",
   "nbconvert_exporter": "python",
   "pygments_lexer": "ipython3",
   "version": "3.12.0"
  }
 },
 "nbformat": 4,
 "nbformat_minor": 2
}
